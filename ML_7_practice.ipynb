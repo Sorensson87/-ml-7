{
  "cells": [
    {
      "cell_type": "markdown",
      "id": "AoeSkz4KaANH",
      "metadata": {
        "id": "AoeSkz4KaANH"
      },
      "source": [
        "# ML-7. Практика"
      ]
    },
    {
      "cell_type": "code",
      "execution_count": 86,
      "id": "d8q91-MSaAOG",
      "metadata": {
        "id": "d8q91-MSaAOG"
      },
      "outputs": [],
      "source": [
        "#импорт библиотек\n",
        "import numpy as np #для матричных вычислений\n",
        "import pandas as pd #для анализа и предобработки данных\n",
        "import matplotlib.pyplot as plt #для визуализации\n",
        "import seaborn as sns #для визуализации\n",
        "\n",
        "from sklearn import linear_model #линейные модели\n",
        "from sklearn.linear_model import LogisticRegression #линейные модели\n",
        "from sklearn import tree #деревья решений\n",
        "from sklearn import ensemble #ансамбли\n",
        "from sklearn import metrics #метрики\n",
        "from sklearn import preprocessing #предобработка\n",
        "from sklearn.model_selection import train_test_split #сплитование выборки\n",
        "\n",
        "%matplotlib inline\n",
        "plt.style.use('seaborn')"
      ]
    },
    {
      "cell_type": "code",
      "execution_count": 87,
      "id": "p770SmlfaAO3",
      "metadata": {
        "colab": {
          "base_uri": "https://localhost:8080/",
          "height": 236
        },
        "id": "p770SmlfaAO3",
        "outputId": "56341bdb-3876-4534-9bce-a70b44a5a90e"
      },
      "outputs": [
        {
          "output_type": "execute_result",
          "data": {
            "text/plain": [
              "   Activity        D1        D2    D3   D4        D5        D6        D7  \\\n",
              "0         1  0.000000  0.497009  0.10  0.0  0.132956  0.678031  0.273166   \n",
              "1         1  0.366667  0.606291  0.05  0.0  0.111209  0.803455  0.106105   \n",
              "2         1  0.033300  0.480124  0.00  0.0  0.209791  0.610350  0.356453   \n",
              "3         1  0.000000  0.538825  0.00  0.5  0.196344  0.724230  0.235606   \n",
              "4         0  0.100000  0.517794  0.00  0.0  0.494734  0.781422  0.154361   \n",
              "\n",
              "         D8        D9  ...  D1767  D1768  D1769  D1770  D1771  D1772  D1773  \\\n",
              "0  0.585445  0.743663  ...      0      0      0      0      0      0      0   \n",
              "1  0.411754  0.836582  ...      1      1      1      1      0      1      0   \n",
              "2  0.517720  0.679051  ...      0      0      0      0      0      0      0   \n",
              "3  0.288764  0.805110  ...      0      0      0      0      0      0      0   \n",
              "4  0.303809  0.812646  ...      0      0      0      0      0      0      0   \n",
              "\n",
              "   D1774  D1775  D1776  \n",
              "0      0      0      0  \n",
              "1      0      1      0  \n",
              "2      0      0      0  \n",
              "3      0      0      0  \n",
              "4      0      0      0  \n",
              "\n",
              "[5 rows x 1777 columns]"
            ],
            "text/html": [
              "\n",
              "  <div id=\"df-3a53e818-84d1-424f-867e-8a21537adb33\">\n",
              "    <div class=\"colab-df-container\">\n",
              "      <div>\n",
              "<style scoped>\n",
              "    .dataframe tbody tr th:only-of-type {\n",
              "        vertical-align: middle;\n",
              "    }\n",
              "\n",
              "    .dataframe tbody tr th {\n",
              "        vertical-align: top;\n",
              "    }\n",
              "\n",
              "    .dataframe thead th {\n",
              "        text-align: right;\n",
              "    }\n",
              "</style>\n",
              "<table border=\"1\" class=\"dataframe\">\n",
              "  <thead>\n",
              "    <tr style=\"text-align: right;\">\n",
              "      <th></th>\n",
              "      <th>Activity</th>\n",
              "      <th>D1</th>\n",
              "      <th>D2</th>\n",
              "      <th>D3</th>\n",
              "      <th>D4</th>\n",
              "      <th>D5</th>\n",
              "      <th>D6</th>\n",
              "      <th>D7</th>\n",
              "      <th>D8</th>\n",
              "      <th>D9</th>\n",
              "      <th>...</th>\n",
              "      <th>D1767</th>\n",
              "      <th>D1768</th>\n",
              "      <th>D1769</th>\n",
              "      <th>D1770</th>\n",
              "      <th>D1771</th>\n",
              "      <th>D1772</th>\n",
              "      <th>D1773</th>\n",
              "      <th>D1774</th>\n",
              "      <th>D1775</th>\n",
              "      <th>D1776</th>\n",
              "    </tr>\n",
              "  </thead>\n",
              "  <tbody>\n",
              "    <tr>\n",
              "      <th>0</th>\n",
              "      <td>1</td>\n",
              "      <td>0.000000</td>\n",
              "      <td>0.497009</td>\n",
              "      <td>0.10</td>\n",
              "      <td>0.0</td>\n",
              "      <td>0.132956</td>\n",
              "      <td>0.678031</td>\n",
              "      <td>0.273166</td>\n",
              "      <td>0.585445</td>\n",
              "      <td>0.743663</td>\n",
              "      <td>...</td>\n",
              "      <td>0</td>\n",
              "      <td>0</td>\n",
              "      <td>0</td>\n",
              "      <td>0</td>\n",
              "      <td>0</td>\n",
              "      <td>0</td>\n",
              "      <td>0</td>\n",
              "      <td>0</td>\n",
              "      <td>0</td>\n",
              "      <td>0</td>\n",
              "    </tr>\n",
              "    <tr>\n",
              "      <th>1</th>\n",
              "      <td>1</td>\n",
              "      <td>0.366667</td>\n",
              "      <td>0.606291</td>\n",
              "      <td>0.05</td>\n",
              "      <td>0.0</td>\n",
              "      <td>0.111209</td>\n",
              "      <td>0.803455</td>\n",
              "      <td>0.106105</td>\n",
              "      <td>0.411754</td>\n",
              "      <td>0.836582</td>\n",
              "      <td>...</td>\n",
              "      <td>1</td>\n",
              "      <td>1</td>\n",
              "      <td>1</td>\n",
              "      <td>1</td>\n",
              "      <td>0</td>\n",
              "      <td>1</td>\n",
              "      <td>0</td>\n",
              "      <td>0</td>\n",
              "      <td>1</td>\n",
              "      <td>0</td>\n",
              "    </tr>\n",
              "    <tr>\n",
              "      <th>2</th>\n",
              "      <td>1</td>\n",
              "      <td>0.033300</td>\n",
              "      <td>0.480124</td>\n",
              "      <td>0.00</td>\n",
              "      <td>0.0</td>\n",
              "      <td>0.209791</td>\n",
              "      <td>0.610350</td>\n",
              "      <td>0.356453</td>\n",
              "      <td>0.517720</td>\n",
              "      <td>0.679051</td>\n",
              "      <td>...</td>\n",
              "      <td>0</td>\n",
              "      <td>0</td>\n",
              "      <td>0</td>\n",
              "      <td>0</td>\n",
              "      <td>0</td>\n",
              "      <td>0</td>\n",
              "      <td>0</td>\n",
              "      <td>0</td>\n",
              "      <td>0</td>\n",
              "      <td>0</td>\n",
              "    </tr>\n",
              "    <tr>\n",
              "      <th>3</th>\n",
              "      <td>1</td>\n",
              "      <td>0.000000</td>\n",
              "      <td>0.538825</td>\n",
              "      <td>0.00</td>\n",
              "      <td>0.5</td>\n",
              "      <td>0.196344</td>\n",
              "      <td>0.724230</td>\n",
              "      <td>0.235606</td>\n",
              "      <td>0.288764</td>\n",
              "      <td>0.805110</td>\n",
              "      <td>...</td>\n",
              "      <td>0</td>\n",
              "      <td>0</td>\n",
              "      <td>0</td>\n",
              "      <td>0</td>\n",
              "      <td>0</td>\n",
              "      <td>0</td>\n",
              "      <td>0</td>\n",
              "      <td>0</td>\n",
              "      <td>0</td>\n",
              "      <td>0</td>\n",
              "    </tr>\n",
              "    <tr>\n",
              "      <th>4</th>\n",
              "      <td>0</td>\n",
              "      <td>0.100000</td>\n",
              "      <td>0.517794</td>\n",
              "      <td>0.00</td>\n",
              "      <td>0.0</td>\n",
              "      <td>0.494734</td>\n",
              "      <td>0.781422</td>\n",
              "      <td>0.154361</td>\n",
              "      <td>0.303809</td>\n",
              "      <td>0.812646</td>\n",
              "      <td>...</td>\n",
              "      <td>0</td>\n",
              "      <td>0</td>\n",
              "      <td>0</td>\n",
              "      <td>0</td>\n",
              "      <td>0</td>\n",
              "      <td>0</td>\n",
              "      <td>0</td>\n",
              "      <td>0</td>\n",
              "      <td>0</td>\n",
              "      <td>0</td>\n",
              "    </tr>\n",
              "  </tbody>\n",
              "</table>\n",
              "<p>5 rows × 1777 columns</p>\n",
              "</div>\n",
              "      <button class=\"colab-df-convert\" onclick=\"convertToInteractive('df-3a53e818-84d1-424f-867e-8a21537adb33')\"\n",
              "              title=\"Convert this dataframe to an interactive table.\"\n",
              "              style=\"display:none;\">\n",
              "        \n",
              "  <svg xmlns=\"http://www.w3.org/2000/svg\" height=\"24px\"viewBox=\"0 0 24 24\"\n",
              "       width=\"24px\">\n",
              "    <path d=\"M0 0h24v24H0V0z\" fill=\"none\"/>\n",
              "    <path d=\"M18.56 5.44l.94 2.06.94-2.06 2.06-.94-2.06-.94-.94-2.06-.94 2.06-2.06.94zm-11 1L8.5 8.5l.94-2.06 2.06-.94-2.06-.94L8.5 2.5l-.94 2.06-2.06.94zm10 10l.94 2.06.94-2.06 2.06-.94-2.06-.94-.94-2.06-.94 2.06-2.06.94z\"/><path d=\"M17.41 7.96l-1.37-1.37c-.4-.4-.92-.59-1.43-.59-.52 0-1.04.2-1.43.59L10.3 9.45l-7.72 7.72c-.78.78-.78 2.05 0 2.83L4 21.41c.39.39.9.59 1.41.59.51 0 1.02-.2 1.41-.59l7.78-7.78 2.81-2.81c.8-.78.8-2.07 0-2.86zM5.41 20L4 18.59l7.72-7.72 1.47 1.35L5.41 20z\"/>\n",
              "  </svg>\n",
              "      </button>\n",
              "      \n",
              "  <style>\n",
              "    .colab-df-container {\n",
              "      display:flex;\n",
              "      flex-wrap:wrap;\n",
              "      gap: 12px;\n",
              "    }\n",
              "\n",
              "    .colab-df-convert {\n",
              "      background-color: #E8F0FE;\n",
              "      border: none;\n",
              "      border-radius: 50%;\n",
              "      cursor: pointer;\n",
              "      display: none;\n",
              "      fill: #1967D2;\n",
              "      height: 32px;\n",
              "      padding: 0 0 0 0;\n",
              "      width: 32px;\n",
              "    }\n",
              "\n",
              "    .colab-df-convert:hover {\n",
              "      background-color: #E2EBFA;\n",
              "      box-shadow: 0px 1px 2px rgba(60, 64, 67, 0.3), 0px 1px 3px 1px rgba(60, 64, 67, 0.15);\n",
              "      fill: #174EA6;\n",
              "    }\n",
              "\n",
              "    [theme=dark] .colab-df-convert {\n",
              "      background-color: #3B4455;\n",
              "      fill: #D2E3FC;\n",
              "    }\n",
              "\n",
              "    [theme=dark] .colab-df-convert:hover {\n",
              "      background-color: #434B5C;\n",
              "      box-shadow: 0px 1px 3px 1px rgba(0, 0, 0, 0.15);\n",
              "      filter: drop-shadow(0px 1px 2px rgba(0, 0, 0, 0.3));\n",
              "      fill: #FFFFFF;\n",
              "    }\n",
              "  </style>\n",
              "\n",
              "      <script>\n",
              "        const buttonEl =\n",
              "          document.querySelector('#df-3a53e818-84d1-424f-867e-8a21537adb33 button.colab-df-convert');\n",
              "        buttonEl.style.display =\n",
              "          google.colab.kernel.accessAllowed ? 'block' : 'none';\n",
              "\n",
              "        async function convertToInteractive(key) {\n",
              "          const element = document.querySelector('#df-3a53e818-84d1-424f-867e-8a21537adb33');\n",
              "          const dataTable =\n",
              "            await google.colab.kernel.invokeFunction('convertToInteractive',\n",
              "                                                     [key], {});\n",
              "          if (!dataTable) return;\n",
              "\n",
              "          const docLinkHtml = 'Like what you see? Visit the ' +\n",
              "            '<a target=\"_blank\" href=https://colab.research.google.com/notebooks/data_table.ipynb>data table notebook</a>'\n",
              "            + ' to learn more about interactive tables.';\n",
              "          element.innerHTML = '';\n",
              "          dataTable['output_type'] = 'display_data';\n",
              "          await google.colab.output.renderOutput(dataTable, element);\n",
              "          const docLink = document.createElement('div');\n",
              "          docLink.innerHTML = docLinkHtml;\n",
              "          element.appendChild(docLink);\n",
              "        }\n",
              "      </script>\n",
              "    </div>\n",
              "  </div>\n",
              "  "
            ]
          },
          "metadata": {},
          "execution_count": 87
        }
      ],
      "source": [
        "#загрузка данных\n",
        "data = pd.read_csv('train_ml7.csv')\n",
        "\n",
        "data.head()"
      ]
    },
    {
      "cell_type": "code",
      "source": [
        "data.info()"
      ],
      "metadata": {
        "id": "LOUT6XHBj6X-",
        "colab": {
          "base_uri": "https://localhost:8080/"
        },
        "outputId": "7ef34493-d6ca-4418-c3c6-57b8e45277f2"
      },
      "id": "LOUT6XHBj6X-",
      "execution_count": 88,
      "outputs": [
        {
          "output_type": "stream",
          "name": "stdout",
          "text": [
            "<class 'pandas.core.frame.DataFrame'>\n",
            "RangeIndex: 3751 entries, 0 to 3750\n",
            "Columns: 1777 entries, Activity to D1776\n",
            "dtypes: float64(942), int64(835)\n",
            "memory usage: 50.9 MB\n"
          ]
        }
      ]
    },
    {
      "cell_type": "code",
      "source": [
        "data['Activity'].value_counts()"
      ],
      "metadata": {
        "id": "oRwkrk82zMvo",
        "colab": {
          "base_uri": "https://localhost:8080/"
        },
        "outputId": "b8f82715-0f1b-4d24-aa89-dff3d966440f"
      },
      "id": "oRwkrk82zMvo",
      "execution_count": 89,
      "outputs": [
        {
          "output_type": "execute_result",
          "data": {
            "text/plain": [
              "1    2034\n",
              "0    1717\n",
              "Name: Activity, dtype: int64"
            ]
          },
          "metadata": {},
          "execution_count": 89
        }
      ]
    },
    {
      "cell_type": "markdown",
      "id": "8p3eELnEaAQW",
      "metadata": {
        "id": "8p3eELnEaAQW"
      },
      "source": [
        "Создаем матрицу наблюдений $X$ и вектор ответов $y$"
      ]
    },
    {
      "cell_type": "code",
      "execution_count": 90,
      "id": "_2GncsCbaAQY",
      "metadata": {
        "id": "_2GncsCbaAQY"
      },
      "outputs": [],
      "source": [
        "X = data.drop(['Activity'], axis=1)\n",
        "y = data['Activity']"
      ]
    },
    {
      "cell_type": "markdown",
      "id": "q4SyRSFhaAQZ",
      "metadata": {
        "id": "q4SyRSFhaAQZ"
      },
      "source": [
        "Разделяем выборку на тренировочную и тестовую в соотношении 80/20. Для сохранения соотношений целевого признака используем параметр stratify (стратифицированное разбиение). "
      ]
    },
    {
      "cell_type": "code",
      "execution_count": 91,
      "id": "Fl_eJIInaAQa",
      "metadata": {
        "id": "Fl_eJIInaAQa"
      },
      "outputs": [],
      "source": [
        "X_train, X_test, y_train, y_test = train_test_split(X, y, stratify=y, random_state = 42, test_size = 0.2)"
      ]
    },
    {
      "cell_type": "code",
      "source": [
        "scaler = preprocessing.MinMaxScaler()\n",
        "scaler.fit(X_train)\n",
        "X_train_scaled = scaler.transform(X_train)\n",
        "X_test_scaled = scaler.transform(X_test)"
      ],
      "metadata": {
        "id": "KI7-8Hkb7E0I"
      },
      "id": "KI7-8Hkb7E0I",
      "execution_count": 92,
      "outputs": []
    },
    {
      "cell_type": "markdown",
      "id": "CE7v-medaAQh",
      "metadata": {
        "id": "CE7v-medaAQh",
        "tags": []
      },
      "source": [
        "#### **Логистическая регрессия**"
      ]
    },
    {
      "cell_type": "markdown",
      "id": "5b6d603a-1ce0-414e-b095-e0f61113c0e7",
      "metadata": {
        "id": "5b6d603a-1ce0-414e-b095-e0f61113c0e7"
      },
      "source": [
        "Зафиксируем только метрики, которые были получены без дополнительной настройки, т.е со значениями гиперпараметров, установленных по умолчанию:"
      ]
    },
    {
      "cell_type": "code",
      "source": [
        "#Создаем объект класса логистическая регрессия\n",
        "log_reg = linear_model.LogisticRegression(max_iter = 50)\n",
        "#Обучаем модель, минимизируя logloss\n",
        "log_reg.fit(X_train_scaled, y_train)\n",
        "y_test_pred = log_reg.predict(X_test_scaled)\n",
        "print('f1_score на тестовом наборе: {:.2f}'.format(metrics.f1_score(y_test, y_test_pred)))"
      ],
      "metadata": {
        "id": "vhZ8-G_z7T22",
        "colab": {
          "base_uri": "https://localhost:8080/"
        },
        "outputId": "30c2fae4-e2d7-4c20-87bc-845ee14dd310"
      },
      "id": "vhZ8-G_z7T22",
      "execution_count": 93,
      "outputs": [
        {
          "output_type": "stream",
          "name": "stdout",
          "text": [
            "f1_score на тестовом наборе: 0.77\n"
          ]
        },
        {
          "output_type": "stream",
          "name": "stderr",
          "text": [
            "/usr/local/lib/python3.7/dist-packages/sklearn/linear_model/_logistic.py:818: ConvergenceWarning: lbfgs failed to converge (status=1):\n",
            "STOP: TOTAL NO. of ITERATIONS REACHED LIMIT.\n",
            "\n",
            "Increase the number of iterations (max_iter) or scale the data as shown in:\n",
            "    https://scikit-learn.org/stable/modules/preprocessing.html\n",
            "Please also refer to the documentation for alternative solver options:\n",
            "    https://scikit-learn.org/stable/modules/linear_model.html#logistic-regression\n",
            "  extra_warning_msg=_LOGISTIC_SOLVER_CONVERGENCE_MSG,\n"
          ]
        }
      ]
    },
    {
      "cell_type": "markdown",
      "source": [
        "f1_score на тестовом наборе составляет 0.77"
      ],
      "metadata": {
        "id": "wajcacAOCzHk"
      },
      "id": "wajcacAOCzHk"
    },
    {
      "cell_type": "markdown",
      "id": "Q6PP7ObJp7WG",
      "metadata": {
        "id": "Q6PP7ObJp7WG"
      },
      "source": [
        "### <center> **GridSearchCV**"
      ]
    },
    {
      "cell_type": "code",
      "source": [
        "from sklearn.model_selection import GridSearchCV\n",
        "\n",
        "param_grid = {'penalty': ['l2', 'none'] ,#тип регурялизации\n",
        "              'solver': ['lbfgs', 'saga'], #алгоритм оптимизации\n",
        "              }\n",
        "grid_search = GridSearchCV(\n",
        "    estimator=linear_model.LogisticRegression(\n",
        "        random_state=42, #генератор случайных чисел\n",
        "        max_iter=50 #количество итераций на сходимость\n",
        "    ), \n",
        "    param_grid=param_grid, \n",
        "    cv=5, \n",
        "    n_jobs = -1\n",
        ")  \n",
        "%time grid_search.fit(X_train_scaled, y_train) \n",
        "y_test_pred = grid_search.predict(X_test_scaled)\n",
        "print('f1_score на тестовом наборе: {:.2f}'.format(metrics.f1_score(y_test, y_test_pred)))\n",
        "print(\"Наилучшие значения гиперпараметров: {}\".format(grid_search.best_params_))"
      ],
      "metadata": {
        "id": "HX_c4Ihd9BiV",
        "colab": {
          "base_uri": "https://localhost:8080/"
        },
        "outputId": "a2b1aec7-a64e-4b36-91da-c180546419b0"
      },
      "id": "HX_c4Ihd9BiV",
      "execution_count": 94,
      "outputs": [
        {
          "output_type": "stream",
          "name": "stdout",
          "text": [
            "CPU times: user 2.57 s, sys: 141 ms, total: 2.72 s\n",
            "Wall time: 19.5 s\n",
            "f1_score на тестовом наборе: 0.78\n",
            "Наилучшие значения гиперпараметров: {'penalty': 'none', 'solver': 'saga'}\n"
          ]
        },
        {
          "output_type": "stream",
          "name": "stderr",
          "text": [
            "/usr/local/lib/python3.7/dist-packages/sklearn/linear_model/_sag.py:354: ConvergenceWarning: The max_iter was reached which means the coef_ did not converge\n",
            "  ConvergenceWarning,\n"
          ]
        }
      ]
    },
    {
      "cell_type": "markdown",
      "source": [
        "Для упрощённого метода GridSearch f1_score на тестовом наборе = 0.78 для модели логистической регрессии"
      ],
      "metadata": {
        "id": "1MwWqHqNC6jb"
      },
      "id": "1MwWqHqNC6jb"
    },
    {
      "cell_type": "markdown",
      "source": [
        "расширим сетку параметров метода GridSearchCV"
      ],
      "metadata": {
        "id": "6HNuyv3L90t4"
      },
      "id": "6HNuyv3L90t4"
    },
    {
      "cell_type": "code",
      "source": [
        "param_grid = [\n",
        "              {'penalty': ['l2', 'none'] , # тип регуляризации\n",
        "              'solver': ['lbfgs', 'sag'], # алгоритм оптимизации\n",
        "               'C': [0.01, 0.1, 0.3, 0.5, 0.7, 0.9, 1]}, # уровень силы регурялизации\n",
        "              \n",
        "              {'penalty': ['l1', 'l2'] ,\n",
        "              'solver': ['liblinear', 'saga'],\n",
        "               'C': [0.01, 0.1, 0.3, 0.5, 0.7, 0.9, 1]}\n",
        "]\n",
        "grid_search_1 = GridSearchCV(\n",
        "    estimator=linear_model.LogisticRegression(random_state=42, max_iter=50), \n",
        "    param_grid=param_grid, \n",
        "    cv=5, \n",
        "    n_jobs = -1\n",
        ")  \n",
        "%time grid_search_1.fit(X_train_scaled, y_train) \n",
        "y_test_pred = grid_search_1.predict(X_test_scaled)\n",
        "print('f1_score на тестовом наборе: {:.2f}'.format(metrics.f1_score(y_test, y_test_pred)))\n",
        "print(\"Наилучшие значения гиперпараметров: {}\".format(grid_search_1.best_params_))"
      ],
      "metadata": {
        "id": "DBrbFnzJJCU0",
        "colab": {
          "base_uri": "https://localhost:8080/"
        },
        "outputId": "09d8b1f3-40d4-470d-b4e5-0b0ef969e4b3"
      },
      "id": "DBrbFnzJJCU0",
      "execution_count": 95,
      "outputs": [
        {
          "output_type": "stream",
          "name": "stdout",
          "text": [
            "CPU times: user 4.84 s, sys: 221 ms, total: 5.06 s\n",
            "Wall time: 3min 39s\n",
            "f1_score на тестовом наборе: 0.79\n",
            "Наилучшие значения гиперпараметров: {'C': 0.3, 'penalty': 'l1', 'solver': 'saga'}\n"
          ]
        },
        {
          "output_type": "stream",
          "name": "stderr",
          "text": [
            "/usr/local/lib/python3.7/dist-packages/sklearn/linear_model/_sag.py:354: ConvergenceWarning: The max_iter was reached which means the coef_ did not converge\n",
            "  ConvergenceWarning,\n"
          ]
        }
      ]
    },
    {
      "cell_type": "markdown",
      "source": [
        "Для расширенного метода GridSearchCV f1_score на тестовом наборе = 0.79 для модели логистической регрессии"
      ],
      "metadata": {
        "id": "MdgSD-spDK3z"
      },
      "id": "MdgSD-spDK3z"
    },
    {
      "cell_type": "markdown",
      "id": "QOlWE5zSptj0",
      "metadata": {
        "id": "QOlWE5zSptj0"
      },
      "source": [
        "### <center> **RandomizedSearchCV**"
      ]
    },
    {
      "cell_type": "code",
      "execution_count": 96,
      "id": "4yjUJJKntcX7",
      "metadata": {
        "id": "4yjUJJKntcX7",
        "colab": {
          "base_uri": "https://localhost:8080/"
        },
        "outputId": "fd8526b9-0347-469d-9b36-e794b736ec35"
      },
      "outputs": [
        {
          "output_type": "stream",
          "name": "stderr",
          "text": [
            "/usr/local/lib/python3.7/dist-packages/sklearn/model_selection/_search.py:296: UserWarning: The total space of parameters 40 is smaller than n_iter=50. Running 40 iterations. For exhaustive searches, use GridSearchCV.\n",
            "  UserWarning,\n"
          ]
        },
        {
          "output_type": "stream",
          "name": "stdout",
          "text": [
            "CPU times: user 1.63 s, sys: 203 ms, total: 1.84 s\n",
            "Wall time: 2min 6s\n",
            "f1_score на тестовом наборе: 0.78\n",
            "Наилучшие значения гиперпараметров: {'solver': 'lbfgs', 'penalty': 'l2', 'C': 0.01}\n"
          ]
        },
        {
          "output_type": "stream",
          "name": "stderr",
          "text": [
            "/usr/local/lib/python3.7/dist-packages/sklearn/linear_model/_logistic.py:818: ConvergenceWarning: lbfgs failed to converge (status=1):\n",
            "STOP: TOTAL NO. of ITERATIONS REACHED LIMIT.\n",
            "\n",
            "Increase the number of iterations (max_iter) or scale the data as shown in:\n",
            "    https://scikit-learn.org/stable/modules/preprocessing.html\n",
            "Please also refer to the documentation for alternative solver options:\n",
            "    https://scikit-learn.org/stable/modules/linear_model.html#logistic-regression\n",
            "  extra_warning_msg=_LOGISTIC_SOLVER_CONVERGENCE_MSG,\n"
          ]
        }
      ],
      "source": [
        "from sklearn.model_selection import RandomizedSearchCV\n",
        "\n",
        "#np.linspace(start(от), stop(до), num=50(количество),dtype- тип данных)\n",
        "param_distributions = {'penalty': ['l2', 'none'] ,\n",
        "              'solver': ['lbfgs', 'sag'],\n",
        "               'C': list(np.linspace(0.01, 1, 10, dtype=float))},\n",
        "            \n",
        "random_search = RandomizedSearchCV(\n",
        "    estimator=linear_model.LogisticRegression(random_state=42, max_iter=50), \n",
        "    param_distributions=param_distributions, \n",
        "    cv=5, \n",
        "    n_iter = 50, \n",
        "    n_jobs = -1\n",
        ")  \n",
        "%time random_search.fit(X_train_scaled, y_train) \n",
        "#print(\"accuracy на тестовом наборе: {:.2f}\".format(random_search.score(X_test_scaled, y_test)))\n",
        "y_test_pred = random_search.predict(X_test_scaled)\n",
        "print('f1_score на тестовом наборе: {:.2f}'.format(metrics.f1_score(y_test, y_test_pred)))\n",
        "print(\"Наилучшие значения гиперпараметров: {}\".format(random_search.best_params_))"
      ]
    },
    {
      "cell_type": "markdown",
      "id": "o70ZkAU5Ok4A",
      "metadata": {
        "id": "o70ZkAU5Ok4A"
      },
      "source": [
        "Для метода RandomizedSearchCV за 50 итераций метрика f1_score = 0.78 для модели логистической регрессии"
      ]
    },
    {
      "cell_type": "markdown",
      "id": "620d146e-a62d-4837-83a5-f952cb6e9162",
      "metadata": {
        "id": "620d146e-a62d-4837-83a5-f952cb6e9162",
        "tags": []
      },
      "source": [
        "#### **Дерево решений**"
      ]
    },
    {
      "cell_type": "markdown",
      "id": "df10934a-ebd0-475b-b6e5-1cd9f09df42e",
      "metadata": {
        "id": "df10934a-ebd0-475b-b6e5-1cd9f09df42e",
        "tags": []
      },
      "source": [
        "Проделаем аналогичное для RandomForestClassifier.\n",
        "Сначала посчитаем модель с параметрами по умолчанию и оценим метрику:"
      ]
    },
    {
      "cell_type": "code",
      "execution_count": 97,
      "id": "XUYSiTfraARA",
      "metadata": {
        "id": "XUYSiTfraARA",
        "colab": {
          "base_uri": "https://localhost:8080/"
        },
        "outputId": "6affd8f4-4518-457b-8a3a-8ccf9130fb83"
      },
      "outputs": [
        {
          "output_type": "stream",
          "name": "stdout",
          "text": [
            "f1_score на обучающем наборе: 1.00\n",
            "f1_score на тестовом наборе: 0.80\n"
          ]
        }
      ],
      "source": [
        "#Создаем объект класса случайный лес\n",
        "rf = ensemble.RandomForestClassifier(random_state=42)\n",
        "\n",
        "#Обучаем модель\n",
        "rf.fit(X_train_scaled, y_train)\n",
        "#Выводим значения метрики \n",
        "y_train_pred = rf.predict(X_train_scaled)\n",
        "print('f1_score на обучающем наборе: {:.2f}'.format(metrics.f1_score(y_train, y_train_pred)))\n",
        "y_test_pred = rf.predict(X_test_scaled)\n",
        "print('f1_score на тестовом наборе: {:.2f}'.format(metrics.f1_score(y_test, y_test_pred)))"
      ]
    },
    {
      "cell_type": "markdown",
      "source": [
        "f1_score на тестовом наборе: 0.80"
      ],
      "metadata": {
        "id": "qaJgi_dNDhly"
      },
      "id": "qaJgi_dNDhly"
    },
    {
      "cell_type": "markdown",
      "id": "mFu0_kEXVp1q",
      "metadata": {
        "id": "mFu0_kEXVp1q"
      },
      "source": [
        "Теперь зададим сетку гиперпараметров: \n",
        "\n",
        "*   'n_estimators' - количество деревьев в лесу, по умолчанию =100\n",
        "\n",
        "*  'min_samples_leaf' - минимальное количество объектов в листе;\n",
        "*  'max_depth': максимальная глубина дерева, не должна быть слишком большой, иначе будет переобучение;\n",
        "\n",
        "\n",
        "\n",
        "\n",
        "И посчитаем RandomizedSearchCV() и затем GridSearchCV()\n",
        "\n",
        "\n",
        "\n"
      ]
    },
    {
      "cell_type": "code",
      "execution_count": 98,
      "id": "TBSxQJ6JzS1f",
      "metadata": {
        "id": "TBSxQJ6JzS1f",
        "colab": {
          "base_uri": "https://localhost:8080/"
        },
        "outputId": "4f901ad9-20a1-4ebc-8411-b6c3451b8eee"
      },
      "outputs": [
        {
          "output_type": "stream",
          "name": "stderr",
          "text": [
            "/usr/local/lib/python3.7/dist-packages/sklearn/model_selection/_search.py:296: UserWarning: The total space of parameters 40 is smaller than n_iter=50. Running 40 iterations. For exhaustive searches, use GridSearchCV.\n",
            "  UserWarning,\n"
          ]
        },
        {
          "output_type": "stream",
          "name": "stdout",
          "text": [
            "CPU times: user 3.47 s, sys: 125 ms, total: 3.6 s\n",
            "Wall time: 2min 46s\n",
            "f1_score на обучающем наборе: 0.95\n",
            "f1_score на тестовом наборе: 0.80\n",
            "Наилучшие значения гиперпараметров: {'n_estimators': 170, 'min_samples_leaf': 5, 'max_depth': 22}\n"
          ]
        }
      ],
      "source": [
        "param_distributions = {'n_estimators': list(range(80, 200, 30)),\n",
        "              'min_samples_leaf': [5],\n",
        "              'max_depth': list(np.linspace(20, 40, 10, dtype=int))\n",
        "              }\n",
        "            \n",
        "random_search_forest = RandomizedSearchCV(\n",
        "    estimator=ensemble.RandomForestClassifier(random_state=42), \n",
        "    param_distributions=param_distributions, \n",
        "    cv=5,\n",
        "    n_iter = 50, \n",
        "    n_jobs = -1\n",
        ")  \n",
        "%time random_search_forest.fit(X_train_scaled, y_train) \n",
        "y_train_pred = random_search_forest.predict(X_train_scaled)\n",
        "print('f1_score на обучающем наборе: {:.2f}'.format(metrics.f1_score(y_train, y_train_pred)))\n",
        "y_test_pred = random_search_forest.predict(X_test_scaled)\n",
        "print('f1_score на тестовом наборе: {:.2f}'.format(metrics.f1_score(y_test, y_test_pred)))\n",
        "print(\"Наилучшие значения гиперпараметров: {}\".format(random_search_forest.best_params_))"
      ]
    },
    {
      "cell_type": "markdown",
      "source": [
        "Для метода RandomizedSearchCV f1_score на тестовом наборе = 0.80 для модели случайного леса "
      ],
      "metadata": {
        "id": "O-tc_7H_D7JV"
      },
      "id": "O-tc_7H_D7JV"
    },
    {
      "cell_type": "code",
      "execution_count": 99,
      "id": "FMojHKnN06ke",
      "metadata": {
        "id": "FMojHKnN06ke",
        "colab": {
          "base_uri": "https://localhost:8080/"
        },
        "outputId": "c7c3c704-31be-4f0d-a46b-dd92405eba24"
      },
      "outputs": [
        {
          "output_type": "stream",
          "name": "stdout",
          "text": [
            "CPU times: user 2.76 s, sys: 77.8 ms, total: 2.84 s\n",
            "Wall time: 1min 23s\n",
            "f1_score на обучающем наборе: 0.94\n",
            "f1_score на тестовом наборе: 0.80\n",
            "Наилучшие значения гиперпараметров: {'max_depth': 20, 'min_samples_leaf': 5, 'n_estimators': 170}\n"
          ]
        }
      ],
      "source": [
        "param_grid = {'n_estimators': list(range(80, 200, 30)),\n",
        "              'min_samples_leaf': [5],\n",
        "              'max_depth': list(np.linspace(20, 40, 5, dtype=int))\n",
        "              }\n",
        "            \n",
        "grid_search_forest = GridSearchCV(\n",
        "    estimator=ensemble.RandomForestClassifier(random_state=42), \n",
        "    param_grid=param_grid, \n",
        "    cv=5, \n",
        "    n_jobs = -1\n",
        ")  \n",
        "%time grid_search_forest.fit(X_train_scaled, y_train) \n",
        "y_train_pred = grid_search_forest.predict(X_train_scaled)\n",
        "print('f1_score на обучающем наборе: {:.2f}'.format(metrics.f1_score(y_train, y_train_pred)))\n",
        "y_test_pred = grid_search_forest.predict(X_test_scaled)\n",
        "print('f1_score на тестовом наборе: {:.2f}'.format(metrics.f1_score(y_test, y_test_pred)))\n",
        "print(\"Наилучшие значения гиперпараметров: {}\".format(grid_search_forest.best_params_))"
      ]
    },
    {
      "cell_type": "markdown",
      "source": [
        "Для метода GridSearchCV f1_score на тестовом наборе = 0.80 для модели случайного леса"
      ],
      "metadata": {
        "id": "iEQmZ2K_D9MC"
      },
      "id": "iEQmZ2K_D9MC"
    },
    {
      "cell_type": "markdown",
      "id": "Z0oexy_WZsgj",
      "metadata": {
        "id": "Z0oexy_WZsgj"
      },
      "source": [
        "#### **Вывод по базовой оптимизации:**\n",
        "Методы RandomizedSearchCV и GridSearchCV показали примерно одинаковую эффективность"
      ]
    },
    {
      "cell_type": "markdown",
      "id": "9c224fa3-0468-4aa0-9877-057a98a92010",
      "metadata": {
        "id": "9c224fa3-0468-4aa0-9877-057a98a92010"
      },
      "source": [
        "## 3. Продвинутая оптимизация."
      ]
    },
    {
      "cell_type": "markdown",
      "id": "Kmo2b6kPChhN",
      "metadata": {
        "id": "Kmo2b6kPChhN"
      },
      "source": [
        "### <center> Hyperopt"
      ]
    },
    {
      "cell_type": "code",
      "execution_count": 100,
      "id": "aSpCOHIW7i_u",
      "metadata": {
        "id": "aSpCOHIW7i_u"
      },
      "outputs": [],
      "source": [
        "# Устанавливаем библиотеку\n",
        "# !pip install hyperopt\n",
        "# или\n",
        "#!conda install -c conda-forge hyperopt"
      ]
    },
    {
      "cell_type": "code",
      "execution_count": 101,
      "id": "Ae44foDuCzke",
      "metadata": {
        "id": "Ae44foDuCzke",
        "colab": {
          "base_uri": "https://localhost:8080/"
        },
        "outputId": "562d3e29-7f6d-4909-f0d0-6179de3a2275"
      },
      "outputs": [
        {
          "output_type": "stream",
          "name": "stdout",
          "text": [
            "Версия Hyperopt : 0.2\n"
          ]
        }
      ],
      "source": [
        "#делаем импорт и выведем версию библиотеки\n",
        "from sklearn.model_selection import cross_val_score\n",
        "import hyperopt\n",
        "from hyperopt import hp, fmin, tpe, Trials\n",
        "# fmin - основная функция, она будет минимизировать наш функционал\n",
        "# tpe - алгоритм оптимизации\n",
        "# hp - включает набор методов для объявления пространства поиска гиперпараметров\n",
        "# trails - используется для логирования результатов\n",
        "\n",
        "print(\"Версия Hyperopt : {}\".format(hyperopt.__version__))"
      ]
    },
    {
      "cell_type": "markdown",
      "id": "z9K7uLdZ69xr",
      "metadata": {
        "id": "z9K7uLdZ69xr"
      },
      "source": [
        "Настроим оптимизацию гиперпараметров для алгоритма случайного леса."
      ]
    },
    {
      "cell_type": "code",
      "execution_count": 102,
      "id": "8dWxW_9K_qJp",
      "metadata": {
        "id": "8dWxW_9K_qJp"
      },
      "outputs": [],
      "source": [
        "# зададим пространство поиска гиперпараметров\n",
        "space={'n_estimators': hp.quniform('n_estimators', 100, 200, 1),\n",
        "       'max_depth' : hp.quniform('max_depth', 15, 26, 1),\n",
        "       'min_samples_leaf': hp.quniform('min_samples_leaf', 2, 10, 1)\n",
        "      }"
      ]
    },
    {
      "cell_type": "markdown",
      "id": "pci4SxXM_Cb4",
      "metadata": {
        "id": "pci4SxXM_Cb4"
      },
      "source": [
        "Интерфейс hyperopt отличается от Grid или RandomizedSearch, поэтому нам нужно создать функцию для минимизации, она должна принимать словарь значений гиперпараметров и возвращать значение целевой функции."
      ]
    },
    {
      "cell_type": "code",
      "execution_count": 103,
      "id": "t3JS7HXU8pd2",
      "metadata": {
        "id": "t3JS7HXU8pd2"
      },
      "outputs": [],
      "source": [
        "# зафксируем random_state\n",
        "random_state = 42\n",
        "def hyperopt_rf(params, cv=5, X=X_train_scaled, y=y_train, random_state=random_state):\n",
        "    # функция получает комбинацию гиперпараметров в \"params\"\n",
        "    params = {'n_estimators': int(params['n_estimators']), \n",
        "              'max_depth': int(params['max_depth']), \n",
        "             'min_samples_leaf': int(params['min_samples_leaf'])\n",
        "              }\n",
        "  \n",
        "    # используем эту комбинацию для построения модели\n",
        "    model = ensemble.RandomForestClassifier(**params, random_state=random_state)\n",
        "\n",
        "    # обучаем модель\n",
        "    model.fit(X, y)\n",
        "    score = metrics.f1_score(y, model.predict(X))\n",
        "    \n",
        "    # обучать модель можно также с помощью кросс-валидации\n",
        "    # применим  cross validation с тем же количеством фолдов\n",
        "    # score = cross_val_score(model, X, y, cv=cv, scoring=\"f1\", n_jobs=-1).mean()\n",
        "\n",
        "    # метрику необходимо минимизировать, поэтому ставим знак минус\n",
        "    return -score"
      ]
    },
    {
      "cell_type": "code",
      "execution_count": 104,
      "id": "qxKIThc002O1",
      "metadata": {
        "id": "qxKIThc002O1",
        "colab": {
          "base_uri": "https://localhost:8080/"
        },
        "outputId": "4ea887d9-db4b-46e6-a665-acb457b4ef55"
      },
      "outputs": [
        {
          "output_type": "stream",
          "name": "stdout",
          "text": [
            "100%|██████████| 20/20 [00:38<00:00,  1.91s/it, best loss: -0.99079754601227]\n",
            "Наилучшие значения гиперпараметров {'max_depth': 24.0, 'min_samples_leaf': 2.0, 'n_estimators': 153.0}\n",
            "CPU times: user 38.2 s, sys: 94.8 ms, total: 38.3 s\n",
            "Wall time: 38.2 s\n"
          ]
        }
      ],
      "source": [
        "# начинаем подбор гиперпараметров\n",
        "%%time\n",
        "\n",
        "trials = Trials() # используется для логирования результатов\n",
        "\n",
        "best=fmin(hyperopt_rf, # наша функция \n",
        "          space=space, # пространство гиперпараметров\n",
        "          algo=tpe.suggest, # алгоритм оптимизации, установлен по умолчанию, задавать необязательно\n",
        "          max_evals=20, # максимальное количество итераций\n",
        "          trials=trials, # логирование результатов\n",
        "          rstate=np.random.RandomState(random_state)# фиксируем для повторяемости результата\n",
        "         )\n",
        "print(\"Наилучшие значения гиперпараметров {}\".format(best))"
      ]
    },
    {
      "cell_type": "code",
      "execution_count": 105,
      "id": "GjN-n5J601hy",
      "metadata": {
        "id": "GjN-n5J601hy",
        "colab": {
          "base_uri": "https://localhost:8080/"
        },
        "outputId": "c2c0142e-19e4-4afc-ae90-e27e86bea9b6"
      },
      "outputs": [
        {
          "output_type": "stream",
          "name": "stdout",
          "text": [
            "f1_score на обучающем наборе: 0.99\n",
            "accuracy на тестовом наборе: 0.78\n",
            "f1_score на тестовом наборе: 0.80\n"
          ]
        }
      ],
      "source": [
        "# рассчитаем точность для тестовой выборки\n",
        "model = ensemble.RandomForestClassifier(\n",
        "    random_state=random_state, \n",
        "    n_estimators=int(best['n_estimators']),\n",
        "    max_depth=int(best['max_depth']),\n",
        "    min_samples_leaf=int(best['min_samples_leaf'])\n",
        ")\n",
        "model.fit(X_train_scaled, y_train)\n",
        "y_train_pred = model.predict(X_train_scaled)\n",
        "print('f1_score на обучающем наборе: {:.2f}'.format(metrics.f1_score(y_train, y_train_pred)))\n",
        "print(\"accuracy на тестовом наборе: {:.2f}\".format(model.score(X_test_scaled, y_test)))\n",
        "y_test_pred = model.predict(X_test_scaled)\n",
        "print('f1_score на тестовом наборе: {:.2f}'.format(metrics.f1_score(y_test, y_test_pred)))"
      ]
    },
    {
      "cell_type": "markdown",
      "source": [
        "Для метода Hyperopt f1_score на тестовом наборе = 0.80 для модели случайного леса"
      ],
      "metadata": {
        "id": "GBnfv92pERec"
      },
      "id": "GBnfv92pERec"
    },
    {
      "cell_type": "markdown",
      "source": [
        "###Hyperopt для линейной регрессии"
      ],
      "metadata": {
        "id": "q24d-navPaHZ"
      },
      "id": "q24d-navPaHZ"
    },
    {
      "cell_type": "code",
      "source": [
        "   estimator=linear_model.LogisticRegression(\n",
        "        random_state=42, #генератор случайных чисел\n",
        "        max_iter=50 #количество итераций на сходимость\n",
        "        )"
      ],
      "metadata": {
        "id": "tEMot0I6PYAW"
      },
      "id": "tEMot0I6PYAW",
      "execution_count": 118,
      "outputs": []
    },
    {
      "cell_type": "code",
      "source": [
        "space={'max_iter': hp.quniform('max_iter', 1, 50, 1)}"
      ],
      "metadata": {
        "id": "zIMdN5ahUOx-"
      },
      "id": "zIMdN5ahUOx-",
      "execution_count": 119,
      "outputs": []
    },
    {
      "cell_type": "code",
      "source": [
        "random_state = 42\n",
        "def hyperopt_lr(params, cv=5, X=X_train_scaled, y=y_train, random_state=random_state):\n",
        "    # функция получает комбинацию гиперпараметров в \"params\"\n",
        "    params = {'max_iter': int(params['max_iter'])}\n",
        "  \n",
        "    # используем эту комбинацию для построения модели\n",
        "    model = linear_model.LogisticRegression(**params, random_state=random_state)\n",
        "\n",
        "    # обучаем модель\n",
        "    model.fit(X, y)\n",
        "    score = metrics.f1_score(y, model.predict(X))\n",
        "    \n",
        "    # обучать модель можно также с помощью кросс-валидации\n",
        "    # применим  cross validation с тем же количеством фолдов\n",
        "    # score = cross_val_score(model, X, y, cv=cv, scoring=\"f1\", n_jobs=-1).mean()\n",
        "\n",
        "    # метрику необходимо минимизировать, поэтому ставим знак минус\n",
        "    return -score"
      ],
      "metadata": {
        "id": "DLBopHpzP5YO"
      },
      "id": "DLBopHpzP5YO",
      "execution_count": 120,
      "outputs": []
    },
    {
      "cell_type": "code",
      "source": [
        "# рассчитаем точность для тестовой выборки\n",
        "model = linear_model.LogisticRegression(\n",
        "    random_state=random_state, \n",
        "    max_iter=50\n",
        ")\n",
        "model.fit(X_train_scaled, y_train)\n",
        "y_train_pred = model.predict(X_train_scaled)\n",
        "y_test_pred = model.predict(X_test_scaled)\n",
        "print('f1_score на тестовом наборе: {:.2f}'.format(metrics.f1_score(y_test, y_test_pred)))"
      ],
      "metadata": {
        "colab": {
          "base_uri": "https://localhost:8080/"
        },
        "id": "UYwJaxJfS-Tk",
        "outputId": "418253b5-042a-4245-af3a-e375b7cdb1ee"
      },
      "id": "UYwJaxJfS-Tk",
      "execution_count": 123,
      "outputs": [
        {
          "output_type": "stream",
          "name": "stdout",
          "text": [
            "f1_score на тестовом наборе: 0.77\n"
          ]
        },
        {
          "output_type": "stream",
          "name": "stderr",
          "text": [
            "/usr/local/lib/python3.7/dist-packages/sklearn/linear_model/_logistic.py:818: ConvergenceWarning: lbfgs failed to converge (status=1):\n",
            "STOP: TOTAL NO. of ITERATIONS REACHED LIMIT.\n",
            "\n",
            "Increase the number of iterations (max_iter) or scale the data as shown in:\n",
            "    https://scikit-learn.org/stable/modules/preprocessing.html\n",
            "Please also refer to the documentation for alternative solver options:\n",
            "    https://scikit-learn.org/stable/modules/linear_model.html#logistic-regression\n",
            "  extra_warning_msg=_LOGISTIC_SOLVER_CONVERGENCE_MSG,\n"
          ]
        }
      ]
    },
    {
      "cell_type": "markdown",
      "source": [
        "Для метода Hyperopt f1_score на тестовом наборе = 0.77 для модели логистической регрессии"
      ],
      "metadata": {
        "id": "6TpgSgLrh75f"
      },
      "id": "6TpgSgLrh75f"
    },
    {
      "cell_type": "markdown",
      "id": "b8734d51-d5d5-4424-b8a3-b341dde985b5",
      "metadata": {
        "id": "b8734d51-d5d5-4424-b8a3-b341dde985b5"
      },
      "source": [
        "## <center> Optuna"
      ]
    },
    {
      "cell_type": "markdown",
      "id": "PPR54ca3DbDi",
      "metadata": {
        "id": "PPR54ca3DbDi"
      },
      "source": [
        "Настроим оптимизацию гиперпараметров для алгоритма случайного леса."
      ]
    },
    {
      "cell_type": "code",
      "execution_count": 108,
      "id": "aSF_70FWu3T6",
      "metadata": {
        "id": "aSF_70FWu3T6"
      },
      "outputs": [],
      "source": [
        "def optuna_rf(trial):\n",
        "  # задаем пространства поиска гиперпараметров\n",
        "  n_estimators = trial.suggest_int('n_estimators', 100, 200, 1)\n",
        "  max_depth = trial.suggest_int('max_depth', 10, 30, 1)\n",
        "  min_samples_leaf = trial.suggest_int('min_samples_leaf', 2, 10, 1)\n",
        "\n",
        "  # создаем модель\n",
        "  model = ensemble.RandomForestClassifier(n_estimators=n_estimators,\n",
        "                                          max_depth=max_depth,\n",
        "                                          min_samples_leaf=min_samples_leaf,\n",
        "                                          random_state=random_state)\n",
        "  # обучаем модель\n",
        "  model.fit(X_train_scaled, y_train)\n",
        "  score = metrics.f1_score(y_train, model.predict(X_train_scaled))\n",
        "\n",
        "  return score\n",
        "  \n",
        "  "
      ]
    },
    {
      "cell_type": "code",
      "execution_count": 109,
      "id": "ubC21yLQpYyF",
      "metadata": {
        "id": "ubC21yLQpYyF",
        "colab": {
          "base_uri": "https://localhost:8080/"
        },
        "outputId": "6a719ff3-94ff-4566-8be6-cf32e2948c71"
      },
      "outputs": [
        {
          "output_type": "stream",
          "name": "stderr",
          "text": [
            "\u001b[32m[I 2022-11-24 19:59:51,322]\u001b[0m A new study created in memory with name: RandomForestClassifier\u001b[0m\n",
            "\u001b[32m[I 2022-11-24 19:59:52,826]\u001b[0m Trial 0 finished with value: 0.9560171044593768 and parameters: {'n_estimators': 110, 'max_depth': 19, 'min_samples_leaf': 4}. Best is trial 0 with value: 0.9560171044593768.\u001b[0m\n",
            "\u001b[32m[I 2022-11-24 19:59:54,795]\u001b[0m Trial 1 finished with value: 0.9175605271222801 and parameters: {'n_estimators': 181, 'max_depth': 10, 'min_samples_leaf': 4}. Best is trial 0 with value: 0.9560171044593768.\u001b[0m\n",
            "\u001b[32m[I 2022-11-24 19:59:56,867]\u001b[0m Trial 2 finished with value: 0.973764490543014 and parameters: {'n_estimators': 146, 'max_depth': 23, 'min_samples_leaf': 3}. Best is trial 2 with value: 0.973764490543014.\u001b[0m\n",
            "\u001b[32m[I 2022-11-24 19:59:59,125]\u001b[0m Trial 3 finished with value: 0.9904878797177048 and parameters: {'n_estimators': 152, 'max_depth': 26, 'min_samples_leaf': 2}. Best is trial 3 with value: 0.9904878797177048.\u001b[0m\n",
            "\u001b[32m[I 2022-11-24 20:00:00,432]\u001b[0m Trial 4 finished with value: 0.8896361968816876 and parameters: {'n_estimators': 125, 'max_depth': 10, 'min_samples_leaf': 8}. Best is trial 3 with value: 0.9904878797177048.\u001b[0m\n",
            "\u001b[32m[I 2022-11-24 20:00:02,692]\u001b[0m Trial 5 finished with value: 0.911863372979567 and parameters: {'n_estimators': 197, 'max_depth': 23, 'min_samples_leaf': 8}. Best is trial 3 with value: 0.9904878797177048.\u001b[0m\n",
            "\u001b[32m[I 2022-11-24 20:00:04,668]\u001b[0m Trial 6 finished with value: 0.9725274725274725 and parameters: {'n_estimators': 142, 'max_depth': 29, 'min_samples_leaf': 3}. Best is trial 3 with value: 0.9904878797177048.\u001b[0m\n",
            "\u001b[32m[I 2022-11-24 20:00:06,592]\u001b[0m Trial 7 finished with value: 0.9031866464339908 and parameters: {'n_estimators': 175, 'max_depth': 30, 'min_samples_leaf': 9}. Best is trial 3 with value: 0.9904878797177048.\u001b[0m\n",
            "\u001b[32m[I 2022-11-24 20:00:08,701]\u001b[0m Trial 8 finished with value: 0.9208764455264759 and parameters: {'n_estimators': 178, 'max_depth': 19, 'min_samples_leaf': 7}. Best is trial 3 with value: 0.9904878797177048.\u001b[0m\n",
            "\u001b[32m[I 2022-11-24 20:00:10,461]\u001b[0m Trial 9 finished with value: 0.9272450532724505 and parameters: {'n_estimators': 146, 'max_depth': 19, 'min_samples_leaf': 6}. Best is trial 3 with value: 0.9904878797177048.\u001b[0m\n",
            "\u001b[32m[I 2022-11-24 20:00:12,006]\u001b[0m Trial 10 finished with value: 0.9886676875957121 and parameters: {'n_estimators': 101, 'max_depth': 26, 'min_samples_leaf': 2}. Best is trial 3 with value: 0.9904878797177048.\u001b[0m\n",
            "\u001b[32m[I 2022-11-24 20:00:13,837]\u001b[0m Trial 11 finished with value: 0.9895769466584917 and parameters: {'n_estimators': 122, 'max_depth': 26, 'min_samples_leaf': 2}. Best is trial 3 with value: 0.9904878797177048.\u001b[0m\n",
            "\u001b[32m[I 2022-11-24 20:00:15,708]\u001b[0m Trial 12 finished with value: 0.989874194538202 and parameters: {'n_estimators': 125, 'max_depth': 25, 'min_samples_leaf': 2}. Best is trial 3 with value: 0.9904878797177048.\u001b[0m\n",
            "\u001b[32m[I 2022-11-24 20:00:17,794]\u001b[0m Trial 13 finished with value: 0.9450884685784015 and parameters: {'n_estimators': 162, 'max_depth': 24, 'min_samples_leaf': 5}. Best is trial 3 with value: 0.9904878797177048.\u001b[0m\n",
            "\u001b[32m[I 2022-11-24 20:00:19,650]\u001b[0m Trial 14 finished with value: 0.9740774626410491 and parameters: {'n_estimators': 134, 'max_depth': 14, 'min_samples_leaf': 2}. Best is trial 3 with value: 0.9904878797177048.\u001b[0m\n",
            "\u001b[32m[I 2022-11-24 20:00:21,810]\u001b[0m Trial 15 finished with value: 0.9579524680073126 and parameters: {'n_estimators': 159, 'max_depth': 27, 'min_samples_leaf': 4}. Best is trial 3 with value: 0.9904878797177048.\u001b[0m\n",
            "\u001b[32m[I 2022-11-24 20:00:23,154]\u001b[0m Trial 16 finished with value: 0.8953594176524112 and parameters: {'n_estimators': 126, 'max_depth': 22, 'min_samples_leaf': 10}. Best is trial 3 with value: 0.9904878797177048.\u001b[0m\n",
            "\u001b[32m[I 2022-11-24 20:00:25,129]\u001b[0m Trial 17 finished with value: 0.9378806333739341 and parameters: {'n_estimators': 158, 'max_depth': 15, 'min_samples_leaf': 5}. Best is trial 3 with value: 0.9904878797177048.\u001b[0m\n",
            "\u001b[32m[I 2022-11-24 20:00:27,040]\u001b[0m Trial 18 finished with value: 0.9725274725274725 and parameters: {'n_estimators': 135, 'max_depth': 28, 'min_samples_leaf': 3}. Best is trial 3 with value: 0.9904878797177048.\u001b[0m\n",
            "\u001b[32m[I 2022-11-24 20:00:28,599]\u001b[0m Trial 19 finished with value: 0.9289850655288023 and parameters: {'n_estimators': 113, 'max_depth': 25, 'min_samples_leaf': 6}. Best is trial 3 with value: 0.9904878797177048.\u001b[0m\n"
          ]
        },
        {
          "output_type": "stream",
          "name": "stdout",
          "text": [
            "CPU times: user 37.2 s, sys: 91.5 ms, total: 37.3 s\n",
            "Wall time: 37.3 s\n"
          ]
        }
      ],
      "source": [
        "%%time\n",
        "# cоздаем объект исследования\n",
        "# можем напрямую указать, что нам необходимо максимизировать метрику direction=\"maximize\"\n",
        "study = optuna.create_study(study_name=\"RandomForestClassifier\", direction=\"maximize\")\n",
        "# ищем лучшую комбинацию гиперпараметров n_trials раз\n",
        "study.optimize(optuna_rf, n_trials=20)"
      ]
    },
    {
      "cell_type": "code",
      "execution_count": 110,
      "id": "6cNF33I2pYaq",
      "metadata": {
        "id": "6cNF33I2pYaq",
        "colab": {
          "base_uri": "https://localhost:8080/"
        },
        "outputId": "ac72a785-37d8-484a-a730-9212d43e084b"
      },
      "outputs": [
        {
          "output_type": "stream",
          "name": "stdout",
          "text": [
            "Наилучшие значения гиперпараметров {'n_estimators': 152, 'max_depth': 26, 'min_samples_leaf': 2}\n",
            "f1_score на обучающем наборе: 0.99\n"
          ]
        }
      ],
      "source": [
        "# выводим результаты на обучающей выборке\n",
        "print(\"Наилучшие значения гиперпараметров {}\".format(study.best_params))\n",
        "print(\"f1_score на обучающем наборе: {:.2f}\".format(study.best_value))"
      ]
    },
    {
      "cell_type": "code",
      "execution_count": 111,
      "id": "JlFIQ0p1pYAJ",
      "metadata": {
        "id": "JlFIQ0p1pYAJ",
        "colab": {
          "base_uri": "https://localhost:8080/"
        },
        "outputId": "42ee9fef-a48a-4979-8a4c-26c83e07266a"
      },
      "outputs": [
        {
          "output_type": "stream",
          "name": "stdout",
          "text": [
            "f1_score на тестовом наборе: 0.80\n"
          ]
        }
      ],
      "source": [
        "# рассчитаем точность для тестовой выборки\n",
        "model = ensemble.RandomForestClassifier(**study.best_params,random_state=random_state, )\n",
        "model.fit(X_train_scaled, y_train)\n",
        "y_test_pred = model.predict(X_test_scaled)\n",
        "print('f1_score на тестовом наборе: {:.2f}'.format(metrics.f1_score(y_test, y_test_pred)))"
      ]
    },
    {
      "cell_type": "markdown",
      "source": [
        "Для метода Optuna f1_score на тестовом наборе = 0.80 для модели случайного леса"
      ],
      "metadata": {
        "id": "KgpedJ65E5n-"
      },
      "id": "KgpedJ65E5n-"
    },
    {
      "cell_type": "markdown",
      "id": "7YnKbvg0MFCs",
      "metadata": {
        "id": "7YnKbvg0MFCs"
      },
      "source": [
        "Методы Optuna и Hyperopt показали одинаковые результаты меторики"
      ]
    },
    {
      "cell_type": "code",
      "source": [],
      "metadata": {
        "id": "JQpmTbYsioXb"
      },
      "id": "JQpmTbYsioXb",
      "execution_count": null,
      "outputs": []
    }
  ],
  "metadata": {
    "colab": {
      "collapsed_sections": [
        "Z0oexy_WZsgj"
      ],
      "provenance": []
    },
    "kernelspec": {
      "display_name": "Python 3 (ipykernel)",
      "language": "python",
      "name": "python3"
    },
    "language_info": {
      "codemirror_mode": {
        "name": "ipython",
        "version": 3
      },
      "file_extension": ".py",
      "mimetype": "text/x-python",
      "name": "python",
      "nbconvert_exporter": "python",
      "pygments_lexer": "ipython3",
      "version": "3.9.7"
    }
  },
  "nbformat": 4,
  "nbformat_minor": 5
}